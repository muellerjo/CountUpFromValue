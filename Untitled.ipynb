{
 "cells": [
  {
   "cell_type": "code",
   "execution_count": 2,
   "metadata": {},
   "outputs": [
    {
     "name": "stdout",
     "output_type": "stream",
     "text": [
      "                    patients\n",
      "country date                \n",
      "france  2020-01-02         0\n",
      "        2020-01-03         0\n",
      "germany 2020-01-01         0\n",
      "        2020-01-02         0\n",
      "        2020-01-03         1\n",
      "        2020-01-05         4\n",
      "        2020-01-06         5\n",
      "swiss   2020-01-04         0\n",
      "        2020-01-05         0\n",
      "        2020-01-07         5\n",
      "                    patients   days\n",
      "country date                       \n",
      "germany 2020-01-03         1 1 days\n",
      "        2020-01-05         4 3 days\n",
      "        2020-01-06         5 4 days\n",
      "swiss   2020-01-07         5 1 days\n"
     ]
    },
    {
     "ename": "NameError",
     "evalue": "name 'df' is not defined",
     "output_type": "error",
     "traceback": [
      "\u001b[1;31m---------------------------------------------------------------------------\u001b[0m",
      "\u001b[1;31mNameError\u001b[0m                                 Traceback (most recent call last)",
      "\u001b[1;32m<ipython-input-2-38bcddede0e0>\u001b[0m in \u001b[0;36m<module>\u001b[1;34m\u001b[0m\n\u001b[0;32m     33\u001b[0m     \u001b[0mmain\u001b[0m\u001b[1;33m(\u001b[0m\u001b[1;33m)\u001b[0m\u001b[1;33m\u001b[0m\u001b[1;33m\u001b[0m\u001b[0m\n\u001b[0;32m     34\u001b[0m \u001b[1;33m\u001b[0m\u001b[0m\n\u001b[1;32m---> 35\u001b[1;33m \u001b[0mdf\u001b[0m\u001b[1;33m\u001b[0m\u001b[1;33m\u001b[0m\u001b[0m\n\u001b[0m",
      "\u001b[1;31mNameError\u001b[0m: name 'df' is not defined"
     ]
    }
   ],
   "source": [
    "import io\n",
    "\n",
    "import pandas as pd\n",
    "\n",
    "DATA = b\"\"\"\\\n",
    "date,country,patients\n",
    "2020-01-02,germany,0\n",
    "2020-01-04,swiss,0\n",
    "2020-01-06,germany,5\n",
    "2020-01-01,germany,0\n",
    "2020-01-03,germany,1\n",
    "2020-01-05,swiss,0\n",
    "2020-01-03,france,0\n",
    "2020-01-07,swiss,5\n",
    "2020-01-05,germany,4\n",
    "2020-01-02,france,0\n",
    "\"\"\"\n",
    "\n",
    "\n",
    "def add_days(dataframe):\n",
    "    dates = dataframe.index.get_level_values(1)\n",
    "    return dataframe.assign(days=dates - dates[0] + pd.Timedelta(days=1))\n",
    "\n",
    "\n",
    "def main():\n",
    "    df = pd.read_csv(io.BytesIO(DATA), sep=\",\", parse_dates=[0])\n",
    "    df = df.set_index([\"country\", \"date\"]).sort_index()\n",
    "    print(df)\n",
    "    result_df = df[df[\"patients\"] > 0].groupby(level=0).apply(add_days)\n",
    "    print(result_df)\n",
    "\n",
    "if __name__ == \"__main__\":\n",
    "    main()\n",
    "    \n"
   ]
  },
  {
   "cell_type": "code",
   "execution_count": null,
   "metadata": {},
   "outputs": [],
   "source": []
  }
 ],
 "metadata": {
  "kernelspec": {
   "display_name": "Python 3",
   "language": "python",
   "name": "python3"
  },
  "language_info": {
   "codemirror_mode": {
    "name": "ipython",
    "version": 3
   },
   "file_extension": ".py",
   "mimetype": "text/x-python",
   "name": "python",
   "nbconvert_exporter": "python",
   "pygments_lexer": "ipython3",
   "version": "3.7.3"
  }
 },
 "nbformat": 4,
 "nbformat_minor": 2
}
